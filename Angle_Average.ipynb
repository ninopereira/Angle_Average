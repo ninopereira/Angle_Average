{
 "cells": [
  {
   "cell_type": "code",
   "execution_count": 1,
   "metadata": {
    "collapsed": true
   },
   "outputs": [],
   "source": [
    "# this list is a numpy array\n",
    "def average_angle(list_angles):\n",
    "    return (sum(list_angles)%360)/float(len(list_angles))"
   ]
  },
  {
   "cell_type": "code",
   "execution_count": 2,
   "metadata": {
    "collapsed": true
   },
   "outputs": [],
   "source": [
    "# TESTS\n",
    "def assert_similar(num1,num2,tol):\n",
    "    assert(num1>(num2-tol))\n",
    "    assert(num1<(num2+tol))"
   ]
  },
  {
   "cell_type": "code",
   "execution_count": 5,
   "metadata": {
    "collapsed": false
   },
   "outputs": [
    {
     "name": "stdout",
     "output_type": "stream",
     "text": [
      "50.0\n"
     ]
    }
   ],
   "source": [
    "# TEST average_angle\n",
    "tol = 0.0001\n",
    "assert_similar (average_angle([10,20,350]),6.6666,tol)\n",
    "assert_similar (average_angle([10,20,180,180,340]),2.0,tol)\n",
    "assert_similar (average_angle([15,355,25,-15]),5.0,tol)\n",
    "\n",
    "# example\n",
    "list_angles = [15,175,25,-15]\n",
    "print(average_angle(list_angles))"
   ]
  },
  {
   "cell_type": "code",
   "execution_count": null,
   "metadata": {
    "collapsed": true
   },
   "outputs": [],
   "source": []
  }
 ],
 "metadata": {
  "kernelspec": {
   "display_name": "Python 3",
   "language": "python",
   "name": "python3"
  },
  "language_info": {
   "codemirror_mode": {
    "name": "ipython",
    "version": 3
   },
   "file_extension": ".py",
   "mimetype": "text/x-python",
   "name": "python",
   "nbconvert_exporter": "python",
   "pygments_lexer": "ipython3",
   "version": "3.5.2"
  },
  "widgets": {
   "state": {},
   "version": "1.1.2"
  }
 },
 "nbformat": 4,
 "nbformat_minor": 2
}
